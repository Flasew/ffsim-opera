{
 "cells": [
  {
   "cell_type": "code",
   "execution_count": 13,
   "metadata": {},
   "outputs": [],
   "source": [
    "import graphviz\n",
    "import json\n",
    "import os\n",
    "from graphviz import Digraph\n",
    "from graphviz import Source\n",
    "import seaborn as sns"
   ]
  },
  {
   "cell_type": "code",
   "execution_count": 14,
   "metadata": {},
   "outputs": [],
   "source": [
    "f = open(\"sim_taskgraph_iter1.json\", \"r\")\n",
    "j = f.read()"
   ]
  },
  {
   "cell_type": "code",
   "execution_count": 15,
   "metadata": {},
   "outputs": [],
   "source": [
    "decoded = json.loads(j)"
   ]
  },
  {
   "cell_type": "code",
   "execution_count": null,
   "metadata": {},
   "outputs": [],
   "source": []
  },
  {
   "cell_type": "code",
   "execution_count": 16,
   "metadata": {},
   "outputs": [],
   "source": [
    "def task_to_str(tasks, task):\n",
    "    result = \"\"\n",
    "    if task[\"type\"] == \"computation\":\n",
    "        result = \"O_{:d}_{:d}_{:d}_{:s}\".format(task[\"opid\"], task[\"part\"], task[\"workerId\"], task[\"op\"])        \n",
    "    else:\n",
    "        result = \"C_{:d}_{:d}_{:.0f}\".format(get_task(tasks, task[\"fromTask\"])[\"workerId\"], get_task(tasks, task[\"toTask\"])[\"workerId\"], task[\"xferSize\"]) \n",
    "    return result"
   ]
  },
  {
   "cell_type": "code",
   "execution_count": 17,
   "metadata": {},
   "outputs": [],
   "source": [
    "def get_task(tasks, guid):\n",
    "    for task in tasks:\n",
    "        if task[\"guid\"] == guid:\n",
    "            return task\n",
    "    return None"
   ]
  },
  {
   "cell_type": "code",
   "execution_count": 18,
   "metadata": {},
   "outputs": [],
   "source": [
    "def generate_color_map(tasks, color_by):\n",
    "    cases = {}\n",
    "    for t in tasks:\n",
    "        if t[\"type\"] == \"computation\":\n",
    "            cases[t[color_by]] = \"\"\n",
    "    colors = sns.color_palette(n_colors=len(cases))\n",
    "    cmap = {}\n",
    "    for i, c in enumerate(cases.keys()):\n",
    "        cmap[c] = \"#{:2x}{:2x}{:2x}\".format(int(colors[i][0]*255),int(colors[i][1]*255),int(colors[i][2]*255))\n",
    "    return cmap\n"
   ]
  },
  {
   "cell_type": "code",
   "execution_count": 19,
   "metadata": {},
   "outputs": [],
   "source": [
    "def task_log_to_dot_diagraph(task_log, color_by=\"workerId\"):\n",
    "    cmap = generate_color_map(task_log[\"tasks\"], color_by)\n",
    "    g = Digraph()\n",
    "    tasks = task_log[\"tasks\"]\n",
    "    for t in tasks:\n",
    "        g.node(task_to_str(tasks, t), task_to_str(tasks, t),\n",
    "               style=\"filled\", \n",
    "               fillcolor=cmap[t[color_by]] if t[\"type\"] == \"computation\" else \"{:s};0.5:{:s}\".format(cmap[get_task(tasks, t[\"fromTask\"])[color_by]],cmap[get_task(tasks, t[\"toTask\"])[color_by]]),\n",
    "               gradientangle=\"270\", shape=\"ellipse\" if t[\"type\"] == \"computation\" else \"box\")\n",
    "    for e in task_log[\"edges\"]:\n",
    "        g.edge(task_to_str(tasks, get_task(tasks, e[0])), \n",
    "               task_to_str(tasks, get_task(tasks, e[1])))\n",
    "    return g"
   ]
  },
  {
   "cell_type": "code",
   "execution_count": 20,
   "metadata": {
    "scrolled": true
   },
   "outputs": [],
   "source": [
    "g = task_log_to_dot_diagraph(decoded)"
   ]
  },
  {
   "cell_type": "code",
   "execution_count": 21,
   "metadata": {},
   "outputs": [
    {
     "data": {
      "text/plain": [
       "'config0worker.pv.png'"
      ]
     },
     "execution_count": 21,
     "metadata": {},
     "output_type": "execute_result"
    }
   ],
   "source": [
    "g.render(\"config0worker.pv\", format=\"png\")"
   ]
  },
  {
   "cell_type": "code",
   "execution_count": 22,
   "metadata": {},
   "outputs": [
    {
     "data": {
      "text/plain": [
       "'digraph {\\n\\tO_0_0_4_conv1 [label=O_0_0_4_conv1 fillcolor=\"#1f77b4\" gradientangle=270 shape=ellipse style=filled]\\n\\tO_1_0_6_pool2 [label=O_1_0_6_pool2 fillcolor=\"#ff7f e\" gradientangle=270 shape=ellipse style=filled]\\n\\tO_2_0_1_conv3 [label=O_2_0_1_conv3 fillcolor=\"#2ca02c\" gradientangle=270 shape=ellipse style=filled]\\n\\tO_3_0_3_pool4 [label=O_3_0_3_pool4 fillcolor=\"#d62728\" gradientangle=270 shape=ellipse style=filled]\\n\\tO_4_0_6_conv5 [label=O_4_0_6_conv5 fillcolor=\"#ff7f e\" gradientangle=270 shape=ellipse style=filled]\\n\\tO_5_0_5_conv6 [label=O_5_0_5_conv6 fillcolor=\"#9467bd\" gradientangle=270 shape=ellipse style=filled]\\n\\tO_6_0_4_conv7 [label=O_6_0_4_conv7 fillcolor=\"#1f77b4\" gradientangle=270 shape=ellipse style=filled]\\n\\tO_7_0_2_pool8 [label=O_7_0_2_pool8 fillcolor=\"#8c564b\" gradientangle=270 shape=ellipse style=filled]\\n\\tO_8_0_6_flat [label=O_8_0_6_flat fillcolor=\"#ff7f e\" gradientangle=270 shape=ellipse style=filled]\\n\\tO_9_0_4_linear9 [label=O_9_0_4_linear9 fillcolor=\"#1f77b4\" gradientangle=270 shape=ellipse style=filled]\\n\\tO_10_0_5_linear10 [label=O_10_0_5_linear10 fillcolor=\"#9467bd\" gradientangle=270 shape=ellipse style=filled]\\n\\tO_11_0_6_linear11 [label=O_11_0_6_linear11 fillcolor=\"#ff7f e\" gradientangle=270 shape=ellipse style=filled]\\n\\tC_4_6_396492800 [label=C_4_6_396492800 fillcolor=\"#1f77b4;0.5:#ff7f e\" gradientangle=270 shape=box style=filled]\\n\\tC_6_1_95551488 [label=C_6_1_95551488 fillcolor=\"#ff7f e;0.5:#2ca02c\" gradientangle=270 shape=box style=filled]\\n\\tC_1_3_286654464 [label=C_1_3_286654464 fillcolor=\"#2ca02c;0.5:#d62728\" gradientangle=270 shape=box style=filled]\\n\\tC_3_6_66453504 [label=C_3_6_66453504 fillcolor=\"#d62728;0.5:#ff7f e\" gradientangle=270 shape=box style=filled]\\n\\tC_6_5_132907008 [label=C_6_5_132907008 fillcolor=\"#ff7f e;0.5:#9467bd\" gradientangle=270 shape=box style=filled]\\n\\tC_5_4_88604672 [label=C_5_4_88604672 fillcolor=\"#9467bd;0.5:#1f77b4\" gradientangle=270 shape=box style=filled]\\n\\tC_4_2_88604672 [label=C_4_2_88604672 fillcolor=\"#1f77b4;0.5:#8c564b\" gradientangle=270 shape=box style=filled]\\n\\tC_2_6_18874368 [label=C_2_6_18874368 fillcolor=\"#8c564b;0.5:#ff7f e\" gradientangle=270 shape=box style=filled]\\n\\tC_6_4_18874368 [label=C_6_4_18874368 fillcolor=\"#ff7f e;0.5:#1f77b4\" gradientangle=270 shape=box style=filled]\\n\\tC_4_5_8388608 [label=C_4_5_8388608 fillcolor=\"#1f77b4;0.5:#9467bd\" gradientangle=270 shape=box style=filled]\\n\\tC_5_6_8388608 [label=C_5_6_8388608 fillcolor=\"#9467bd;0.5:#ff7f e\" gradientangle=270 shape=box style=filled]\\n\\tO_0_0_4_conv1 -> C_4_6_396492800\\n\\tC_4_6_396492800 -> O_1_0_6_pool2\\n\\tO_1_0_6_pool2 -> C_6_1_95551488\\n\\tC_6_1_95551488 -> O_2_0_1_conv3\\n\\tO_2_0_1_conv3 -> C_1_3_286654464\\n\\tC_1_3_286654464 -> O_3_0_3_pool4\\n\\tO_3_0_3_pool4 -> C_3_6_66453504\\n\\tC_3_6_66453504 -> O_4_0_6_conv5\\n\\tO_4_0_6_conv5 -> C_6_5_132907008\\n\\tC_6_5_132907008 -> O_5_0_5_conv6\\n\\tO_5_0_5_conv6 -> C_5_4_88604672\\n\\tC_5_4_88604672 -> O_6_0_4_conv7\\n\\tO_6_0_4_conv7 -> C_4_2_88604672\\n\\tC_4_2_88604672 -> O_7_0_2_pool8\\n\\tO_7_0_2_pool8 -> C_2_6_18874368\\n\\tC_2_6_18874368 -> O_8_0_6_flat\\n\\tO_8_0_6_flat -> C_6_4_18874368\\n\\tC_6_4_18874368 -> O_9_0_4_linear9\\n\\tO_9_0_4_linear9 -> C_4_5_8388608\\n\\tC_4_5_8388608 -> O_10_0_5_linear10\\n\\tO_10_0_5_linear10 -> C_5_6_8388608\\n\\tC_5_6_8388608 -> O_11_0_6_linear11\\n}'"
      ]
     },
     "execution_count": 22,
     "metadata": {},
     "output_type": "execute_result"
    }
   ],
   "source": [
    "g.source"
   ]
  },
  {
   "cell_type": "code",
   "execution_count": null,
   "metadata": {},
   "outputs": [],
   "source": []
  }
 ],
 "metadata": {
  "kernelspec": {
   "display_name": "Python 3",
   "language": "python",
   "name": "python3"
  },
  "language_info": {
   "codemirror_mode": {
    "name": "ipython",
    "version": 3
   },
   "file_extension": ".py",
   "mimetype": "text/x-python",
   "name": "python",
   "nbconvert_exporter": "python",
   "pygments_lexer": "ipython3",
   "version": "3.6.9"
  }
 },
 "nbformat": 4,
 "nbformat_minor": 2
}
